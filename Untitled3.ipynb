{
 "cells": [
  {
   "cell_type": "code",
   "execution_count": 4,
   "id": "876ff690-1833-4200-a095-623cebe7a1ce",
   "metadata": {},
   "outputs": [
    {
     "name": "stdout",
     "output_type": "stream",
     "text": [
      "students average:\n",
      "Ahmed' average grade : 84.33333333333333\n",
      "Sara' average grade : 91.66666666666667\n",
      "Omar' average grade : 75.0\n"
     ]
    }
   ],
   "source": [
    "students = [\n",
    "    {\"name\": \"Ahmed\", \"grades\": [85, 90, 78]},\n",
    "    {\"name\": \"Sara\", \"grades\": [92, 88, 95]},\n",
    "    {\"name\": \"Omar\", \"grades\": [70, 75, 80]}\n",
    "]\n",
    "print(f\"students average:\")\n",
    "for student in students:\n",
    "    name = student[\"name\"]\n",
    "    grades = student[\"grades\"]\n",
    "    average = sum(grades) / len(grades)\n",
    "    print(f\"{name}' average grade : {average:}\")"
   ]
  },
  {
   "cell_type": "code",
   "execution_count": null,
   "id": "23c645e4-8348-4103-99eb-dcc0e3a89f6d",
   "metadata": {},
   "outputs": [],
   "source": []
  }
 ],
 "metadata": {
  "kernelspec": {
   "display_name": "Python [conda env:base] *",
   "language": "python",
   "name": "conda-base-py"
  },
  "language_info": {
   "codemirror_mode": {
    "name": "ipython",
    "version": 3
   },
   "file_extension": ".py",
   "mimetype": "text/x-python",
   "name": "python",
   "nbconvert_exporter": "python",
   "pygments_lexer": "ipython3",
   "version": "3.13.5"
  }
 },
 "nbformat": 4,
 "nbformat_minor": 5
}
