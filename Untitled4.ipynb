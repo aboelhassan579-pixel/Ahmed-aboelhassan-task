{
 "cells": [
  {
   "cell_type": "code",
   "execution_count": 1,
   "id": "42fa7cf2-89b7-4d23-ac23-2e48dfccf45b",
   "metadata": {},
   "outputs": [
    {
     "name": "stdout",
     "output_type": "stream",
     "text": [
      "15\n",
      "5\n",
      "50\n",
      "2.0\n",
      "Error: Division by zero!\n"
     ]
    }
   ],
   "source": [
    "def calculator(a, b, operation):\n",
    "    if operation == \"add\":\n",
    "        return a + b\n",
    "    elif operation == \"subtract\":\n",
    "        return a - b\n",
    "    elif operation == \"multiply\":\n",
    "        return a * b\n",
    "    elif operation == \"divide\":\n",
    "        if b == 0:\n",
    "            return \"Error: Division by zero!\"\n",
    "        return a / b\n",
    "    else:\n",
    "        return \"Error: Invalid operation!\"\n",
    "print(calculator(10, 5, \"add\"))       \n",
    "print(calculator(10, 5, \"subtract\"))  \n",
    "print(calculator(10, 5, \"multiply\"))  \n",
    "print(calculator(10, 5, \"divide\"))    \n",
    "print(calculator(10, 0, \"divide\"))"
   ]
  },
  {
   "cell_type": "code",
   "execution_count": null,
   "id": "5d6fd9f0-8f8d-4aae-b029-59e5c7270819",
   "metadata": {},
   "outputs": [],
   "source": []
  }
 ],
 "metadata": {
  "kernelspec": {
   "display_name": "Python [conda env:base] *",
   "language": "python",
   "name": "conda-base-py"
  },
  "language_info": {
   "codemirror_mode": {
    "name": "ipython",
    "version": 3
   },
   "file_extension": ".py",
   "mimetype": "text/x-python",
   "name": "python",
   "nbconvert_exporter": "python",
   "pygments_lexer": "ipython3",
   "version": "3.13.5"
  }
 },
 "nbformat": 4,
 "nbformat_minor": 5
}
