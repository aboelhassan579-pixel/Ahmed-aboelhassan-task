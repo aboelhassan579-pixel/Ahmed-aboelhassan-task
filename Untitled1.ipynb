{
 "cells": [
  {
   "cell_type": "code",
   "execution_count": 2,
   "id": "48c8faa4-5cca-4c7a-9bd5-fc0d94e2e441",
   "metadata": {},
   "outputs": [
    {
     "name": "stdout",
     "output_type": "stream",
     "text": [
      "divisable by 3 [3]\n",
      "divisable by 3 [6]\n",
      "divisable by 3 [9]\n",
      "divisable by 3 [12]\n",
      "divisable by 3 [15]\n",
      "divisable by 3 [18]\n"
     ]
    }
   ],
   "source": [
    "X=[1,2,3,4,5,6,7,8,9,10,11,12,13,14,15,16,17,18,19,20]\n",
    "for i in X:\n",
    "    if i % 3==0:\n",
    "        print(\"divisable by 3\" ,[ i] )"
   ]
  },
  {
   "cell_type": "code",
   "execution_count": null,
   "id": "2f084719-a643-4341-b07a-cc5a5ae3255c",
   "metadata": {},
   "outputs": [],
   "source": []
  }
 ],
 "metadata": {
  "kernelspec": {
   "display_name": "Python [conda env:base] *",
   "language": "python",
   "name": "conda-base-py"
  },
  "language_info": {
   "codemirror_mode": {
    "name": "ipython",
    "version": 3
   },
   "file_extension": ".py",
   "mimetype": "text/x-python",
   "name": "python",
   "nbconvert_exporter": "python",
   "pygments_lexer": "ipython3",
   "version": "3.13.5"
  }
 },
 "nbformat": 4,
 "nbformat_minor": 5
}
