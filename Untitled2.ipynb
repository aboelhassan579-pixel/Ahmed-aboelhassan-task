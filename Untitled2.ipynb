{
 "cells": [
  {
   "cell_type": "code",
   "execution_count": null,
   "id": "3bc008f0-4fa9-4092-bb20-1b1f92a39af8",
   "metadata": {},
   "outputs": [
    {
     "name": "stdout",
     "output_type": "stream",
     "text": [
      "Contacts:\n",
      "Ahmed\n",
      "Sara\n",
      "Omar\n"
     ]
    }
   ],
   "source": [
    "contacts = {}\n",
    "contacts[\"Ahmed\"] = \"01112851383\"\n",
    "contacts[\"Sara\"] = \"01212401749\"\n",
    "contacts[\"Omar\"] = \"01020304050\"\n",
    "print(\"Contacts:\")\n",
    "for name in contacts.keys():\n",
    "    print(name)\n",
    "search_name = input(\"\\nEnter the name you want to search for: \")\n",
    "if search_name in contacts:\n",
    "    print(f\"{search_name}' phone number is: {contacts[search_name]}\")\n",
    "else:\n",
    "    print(f\"Sorry, {search_name} is not in the contact book.\")\n"
   ]
  },
  {
   "cell_type": "code",
   "execution_count": null,
   "id": "5a75b93b-6dd0-4912-9545-d9feb95540ad",
   "metadata": {},
   "outputs": [],
   "source": []
  }
 ],
 "metadata": {
  "kernelspec": {
   "display_name": "Python [conda env:base] *",
   "language": "python",
   "name": "conda-base-py"
  },
  "language_info": {
   "codemirror_mode": {
    "name": "ipython",
    "version": 3
   },
   "file_extension": ".py",
   "mimetype": "text/x-python",
   "name": "python",
   "nbconvert_exporter": "python",
   "pygments_lexer": "ipython3",
   "version": "3.13.5"
  }
 },
 "nbformat": 4,
 "nbformat_minor": 5
}
