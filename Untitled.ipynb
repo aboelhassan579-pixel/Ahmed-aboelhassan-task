{
 "cells": [
  {
   "cell_type": "code",
   "execution_count": 15,
   "id": "bb6c9a15-104e-4b7c-8b90-28222130526b",
   "metadata": {},
   "outputs": [
    {
     "name": "stdin",
     "output_type": "stream",
     "text": [
      "write temperature in celsius 20\n"
     ]
    },
    {
     "ename": "TypeError",
     "evalue": "'>=' not supported between instances of 'list' and 'int'",
     "output_type": "error",
     "traceback": [
      "\u001b[1;31m---------------------------------------------------------------------------\u001b[0m",
      "\u001b[1;31mTypeError\u001b[0m                                 Traceback (most recent call last)",
      "Cell \u001b[1;32mIn[15], line 2\u001b[0m\n\u001b[0;32m      1\u001b[0m t \u001b[38;5;241m=\u001b[39m \u001b[38;5;28minput\u001b[39m(\u001b[38;5;124m\"\u001b[39m\u001b[38;5;124mwrite temperature in celsius\u001b[39m\u001b[38;5;124m\"\u001b[39m )\n\u001b[1;32m----> 2\u001b[0m \u001b[38;5;28;01mif\u001b[39;00m [t] \u001b[38;5;241m>\u001b[39m\u001b[38;5;241m=\u001b[39m \u001b[38;5;241m30\u001b[39m:\n\u001b[0;32m      3\u001b[0m     \u001b[38;5;28mprint\u001b[39m(\u001b[38;5;124m\"\u001b[39m\u001b[38;5;124mIt\u001b[39m\u001b[38;5;124m'\u001b[39m\u001b[38;5;124ms a hot day. Stay hydrated!\u001b[39m\u001b[38;5;124m\"\u001b[39m)\n\u001b[0;32m      4\u001b[0m \u001b[38;5;28;01melif\u001b[39;00m temperature\u001b[38;5;241m>\u001b[39m\u001b[38;5;241m20\u001b[39m \u001b[38;5;129;01mand\u001b[39;00m temperature\u001b[38;5;241m<\u001b[39m\u001b[38;5;241m29\u001b[39m :\n",
      "\u001b[1;31mTypeError\u001b[0m: '>=' not supported between instances of 'list' and 'int'"
     ]
    }
   ],
   "source": [
    "temperature = input(\"write temperature in celsius\" )\n",
    "if temperature >= 30:\n",
    "    print(\"It's a hot day. Stay hydrated!\")\n",
    "elif temperature>20 and temperature<29 :\n",
    "    print(\"its awarm day enjoy the weather!\")\n",
    "elif temperature>10 and temperature<19 :\n",
    "    print(\"its acool day.wear ajacket!\")\n",
    "else :\n",
    "    print(\"its acold day.stay warm\")\n",
    "    "
   ]
  },
  {
   "cell_type": "markdown",
   "id": "21461e37-d81d-4f18-8ef3-88e4ccd78380",
   "metadata": {},
   "source": [
    "# Assistant\n",
    "The error occurs because you're comparing a string (from `input()`) with an integer using the `>=` operator. The `input()` function returns a string, but you're trying to compare it directly with numbers.\n",
    "\n",
    "Would you like me to provide the corrected code?"
   ]
  },
  {
   "cell_type": "code",
   "execution_count": null,
   "id": "31b99d02-5e5e-4670-94a7-6ebf95905fe4",
   "metadata": {},
   "outputs": [],
   "source": []
  }
 ],
 "metadata": {
  "kernelspec": {
   "display_name": "Python [conda env:base] *",
   "language": "python",
   "name": "conda-base-py"
  },
  "language_info": {
   "codemirror_mode": {
    "name": "ipython",
    "version": 3
   },
   "file_extension": ".py",
   "mimetype": "text/x-python",
   "name": "python",
   "nbconvert_exporter": "python",
   "pygments_lexer": "ipython3",
   "version": "3.13.5"
  }
 },
 "nbformat": 4,
 "nbformat_minor": 5
}
